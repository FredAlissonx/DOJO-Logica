{
 "cells": [
  {
   "cell_type": "markdown",
   "metadata": {},
   "source": [
    "# 1 - Listas em Python"
   ]
  },
  {
   "cell_type": "markdown",
   "metadata": {},
   "source": [
    "## 1.1 - Introdução"
   ]
  },
  {
   "cell_type": "markdown",
   "metadata": {},
   "source": [
    "### 1.1.1 - O que significa estrutura de dados?"
   ]
  },
  {
   "cell_type": "markdown",
   "metadata": {},
   "source": [
    "Estrutura de dados é uma maneira organizada de armazenar dados para a manipulação dos dados de forma eficiente.\n",
    "Ex.:\n",
    "- Livros: São os dados que precisamos guardar\n",
    "- As estantes e prateleiras: São estrutura de dados que organiza os livros de forma eficiente para busca, seja por letra, número etc.\n",
    "\n",
    "Python tem 4 estruturas de dados nativas, usadas em diferentes situações."
   ]
  },
  {
   "cell_type": "markdown",
   "metadata": {},
   "source": [
    "### 1.1.2 - O que é uma lista?"
   ]
  },
  {
   "cell_type": "markdown",
   "metadata": {},
   "source": [
    "Imagine uma lista de compras, onde temos vários itens reunidos em um papel e não cada item em um único papel. Uma lista em Python funciona de maneira semelhante, onde você pode armazenar vários itens (dados) em uma única estrutura.\n",
    "\n",
    "A lista faz basicamente isso, sendo uma estrutura de dados utilizada para armazenar uma coleção de dados em uma única variável.\n",
    "A lista em Python tem algumas características, como:\n",
    "- Ordenação: Os dados de uma lista são ordenados na ordem que foram colocados\n",
    "- Mutável: Você pode mudar a estrutura da lista, seja removendo ou adicionando elementos, juntando com outras listas, limpando a lista, etc. \n",
    "- Duplicidade: Pode conter elementos duplicados\n",
    "\n",
    "Em Python, uma lista é definida pela sua tipagem \"list\", pela presença de colchetes envolta dos dados e por sua classe para converter para lista."
   ]
  },
  {
   "cell_type": "code",
   "execution_count": 2,
   "metadata": {},
   "outputs": [
    {
     "name": "stdout",
     "output_type": "stream",
     "text": [
      "Lista sem tipagem: ['aprendendo', 'lógica', 'dojo', 'EY']\n",
      "Lista com tipagem: ['aprendendo', 'lógica', 'dojo', 'EY']\n",
      "<class 'list'>\n",
      "Tupla convertida para lista: ['aprendendo', 'lógica', 'dojo', 'EY']\n"
     ]
    }
   ],
   "source": [
    "# Exemplo simples\n",
    "# sem tipagem apenas colchetes\n",
    "lista_sem_tipagem = [\"aprendendo\", \"lógica\", \"dojo\", \"EY\"]\n",
    "print(f\"Lista sem tipagem: {lista_sem_tipagem}\")\n",
    "\n",
    "# com tipagem\n",
    "lista_com_tipagem: list = [\"aprendendo\", \"lógica\", \"dojo\", \"EY\"]\n",
    "print(f\"Lista com tipagem: {lista_com_tipagem}\")\n",
    "\n",
    "# com a classe list()\n",
    "tupla_para_converter_list = (\"aprendendo\", \"lógica\", \"dojo\", \"EY\")\n",
    "list_com_classe = list(tupla_para_converter_list)\n",
    "print(f\"Tupla convertida para lista: {list_com_classe}\")"
   ]
  },
  {
   "cell_type": "code",
   "execution_count": 2,
   "metadata": {},
   "outputs": [
    {
     "name": "stdout",
     "output_type": "stream",
     "text": [
      "<class 'list'>\n"
     ]
    }
   ],
   "source": [
    "# Como checamos se realmente é uma lista?\n",
    "print(type(list_com_classe))"
   ]
  },
  {
   "cell_type": "markdown",
   "metadata": {},
   "source": [
    "### 1.1.3 - Acessando elementos em uma lista"
   ]
  },
  {
   "cell_type": "code",
   "execution_count": 3,
   "metadata": {},
   "outputs": [
    {
     "name": "stdout",
     "output_type": "stream",
     "text": [
      "primeiro nome: Joao\n",
      "ultimo nome:  Sousa\n",
      "do segundo em diante: ['Maria', 'Jose', 'Pedro', 'Alisson', 'Sousa']\n",
      "a lista inteira ['Joao', 'Maria', 'Jose', 'Pedro', 'Alisson', 'Sousa']\n",
      "intervalo de 3 ['Joao', 'Pedro']\n",
      "de tras para frente ['Sousa', 'Alisson', 'Pedro', 'Jose', 'Maria', 'Joao']\n"
     ]
    }
   ],
   "source": [
    "# utilizamos o índice para localizar o que queremos\n",
    "nomes = [\"Joao\", \"Maria\", \"Jose\", \"Pedro\", \"Alisson\", \"Sousa\"]\n",
    "\n",
    "print(\"primeiro nome:\", nomes[0]) # primeiro nome\n",
    "print(\"ultimo nome: \", nomes[-1]) # ultimo nome\n",
    "print(\"do segundo em diante:\", nomes[1:]) # do segundo em diante\n",
    "print(\"a lista inteira\", nomes[::]) # a lista inteira\n",
    "print(\"intervalo de 3\", nomes[::3]) # intervalo de 3\n",
    "print(\"de tras para frente\", nomes[::-1]) # de tras para frente"
   ]
  },
  {
   "cell_type": "code",
   "execution_count": 4,
   "metadata": {},
   "outputs": [
    {
     "name": "stdout",
     "output_type": "stream",
     "text": [
      "Usando função, index de Sousa: 5\n",
      "\n",
      "Achamos o Sousa no index: 5\n",
      "\n",
      "Elemento 'Sousa' encontrado!\n",
      "\n",
      "0-Joao\n",
      "1-Maria\n",
      "2-Jose\n",
      "3-Pedro\n",
      "4-Alisson\n",
      "5-Sousa\n"
     ]
    }
   ],
   "source": [
    "# e como eu posso achar um elemento que não sabemos qual o seu índice?\n",
    "# temos que percorrer a lista ou utilizar uma função para achar o index (pouco eficiente)\n",
    "\n",
    "# utilizando função index()\n",
    "index_sousa = nomes.index(\"Sousa\")\n",
    "print(f\"Usando função, index de Sousa: {index_sousa}\\n\")\n",
    "\n",
    "# percorrendo\n",
    "# imagina que queremos o nome Sousa mas não sabemos seu índice, faríamos\n",
    "for i in range(len(nomes)):\n",
    "    if nomes[i] == \"Sousa\":\n",
    "        print(f\"Achamos o Sousa no index: {i}\")\n",
    "\n",
    "print()\n",
    "\n",
    "# ou as vezes queremos só o elemento mesmo:\n",
    "for element in nomes:\n",
    "    if element == \"Sousa\":\n",
    "        print(\"Elemento 'Sousa' encontrado!\")\n",
    "\n",
    "print()\n",
    "    \n",
    "\n",
    "# ou mais eficiente\n",
    "for index, element in enumerate(nomes):\n",
    "    print(f\"{index}-{element}\")"
   ]
  },
  {
   "cell_type": "markdown",
   "metadata": {},
   "source": [
    "### 1.1.4 - Funções úteis em listas"
   ]
  },
  {
   "cell_type": "code",
   "execution_count": 5,
   "metadata": {},
   "outputs": [
    {
     "name": "stdout",
     "output_type": "stream",
     "text": [
      "Tamanho da lista: 6\n",
      "\n",
      "Adicionando um elemento no final da lista: ['Joao', 'Maria', 'Jose', 'Pedro', 'Alisson', 'Sousa', 'Diana']\n",
      "\n",
      "Removendo um elemento da lista: ['Joao', 'Maria', 'Jose', 'Alisson', 'Sousa', 'Diana']\n",
      "\n",
      "Lista ordenada de forma crescente: ['Alisson', 'Diana', 'Joao', 'Jose', 'Maria', 'Sousa']\n",
      "\n",
      "Removendo e retornando o último elemento: Sousa\n",
      "\n",
      "Lista após remoção do último elemento: ['Alisson', 'Diana', 'Joao', 'Jose', 'Maria']\n",
      "\n",
      "Inserindo um elemento na posição 1: ['Alisson', 'Eva', 'Diana', 'Joao', 'Jose', 'Maria']\n",
      "\n",
      "Quantidade de vezes que 'Alice' aparece na lista: 0\n",
      "\n",
      "Extendendo a lista com novos elementos: ['Alisson', 'Eva', 'Diana', 'Joao', 'Jose', 'Maria', 'Frank', 'George']\n",
      "\n",
      "Lista invertida: ['George', 'Frank', 'Maria', 'Jose', 'Joao', 'Diana', 'Eva', 'Alisson']\n",
      "\n",
      "Lista após clear(): []\n",
      "\n"
     ]
    }
   ],
   "source": [
    "# len() - Retorna o tamanho da lista\n",
    "print(f\"Tamanho da lista: {len(nomes)}\\n\")  # Saída: 3\n",
    "\n",
    "# append(x) - Adiciona um elemento no final da lista\n",
    "nomes.append(\"Diana\")\n",
    "print(f\"Adicionando um elemento no final da lista: {nomes}\\n\") \n",
    "\n",
    "# remove(x) - Remove a primeira ocorrência do elemento da lista\n",
    "nomes.remove(\"Pedro\")\n",
    "print(f\"Removendo um elemento da lista: {nomes}\\n\") \n",
    "\n",
    "# sort() - Ordena a lista de forma crescente\n",
    "nomes.sort()\n",
    "print(f\"Lista ordenada de forma crescente: {nomes}\\n\") \n",
    "\n",
    "# pop([i]) - Remove e retorna o último elemento se o índice não for especificado\n",
    "ultimo = nomes.pop()\n",
    "print(f\"Removendo e retornando o último elemento: {ultimo}\\n\")  # Saída: \"Diana\"\n",
    "print(f\"Lista após remoção do último elemento: {nomes}\\n\") \n",
    "\n",
    "# insert(i, x) - Insere um elemento na posição especificada\n",
    "nomes.insert(1, \"Eva\")\n",
    "print(f\"Inserindo um elemento na posição 1: {nomes}\\n\")  \n",
    "\n",
    "# count(x) - Retorna o número de vezes que o elemento aparece na lista\n",
    "repeticoes = nomes.count(\"Alice\")\n",
    "print(f\"Quantidade de vezes que 'Alice' aparece na lista: {repeticoes}\\n\") \n",
    "\n",
    "# extend(iterable) - Adiciona todos os elementos de um iterável ao final da lista\n",
    "nomes.extend([\"Frank\", \"George\"])\n",
    "print(f\"Extendendo a lista com novos elementos: {nomes}\\n\")\n",
    "\n",
    "# reverse() - Inverte a ordem dos elementos na lista\n",
    "nomes.reverse()\n",
    "print(f\"Lista invertida: {nomes}\\n\")\n",
    "\n",
    "# clear() - Remove todos os elementos da lista\n",
    "nomes.clear()\n",
    "print(f\"Lista após clear(): {nomes}\\n\")  # Saída: []\n"
   ]
  },
  {
   "cell_type": "markdown",
   "metadata": {},
   "source": [
    "### 1.1.5 - List Comprehension"
   ]
  },
  {
   "cell_type": "markdown",
   "metadata": {},
   "source": [
    "#### É uma maneira concisa, rápida e eficiente de criar listas\n",
    "### nome_list = [valor for valor expressão condição]"
   ]
  },
  {
   "cell_type": "code",
   "execution_count": 6,
   "metadata": {},
   "outputs": [
    {
     "name": "stdout",
     "output_type": "stream",
     "text": [
      "[0, 1, 2, 3, 4, 5, 6, 7, 8, 9, 10, 11]\n"
     ]
    }
   ],
   "source": [
    "ex = [i for i in range(0, 12)]\n",
    "print(ex)\n",
    "\n",
    "# com decisão"
   ]
  },
  {
   "cell_type": "markdown",
   "metadata": {},
   "source": [
    "## Exemplo de uso listas"
   ]
  },
  {
   "cell_type": "code",
   "execution_count": 7,
   "metadata": {},
   "outputs": [
    {
     "name": "stdout",
     "output_type": "stream",
     "text": [
      "Minhas Tarefas de Hoje:\n",
      "- Comprar mantimentos\n",
      "- Ler um capítulo do livro\n",
      "- Enviar e-mails de trabalho\n",
      "- Ir à academia\n",
      "- Preparar o jantar\n",
      "\n",
      "Tarefa concluída: Enviar e-mails de trabalho\n",
      "\n",
      "Tarefas Restantes:\n",
      "- Comprar mantimentos\n",
      "- Ler um capítulo do livro\n",
      "- Ir à academia\n",
      "- Preparar o jantar\n"
     ]
    }
   ],
   "source": [
    "# Lista de tarefas\n",
    "tarefas = [\n",
    "    \"Comprar mantimentos\",\n",
    "    \"Ler um capítulo do livro\",\n",
    "    \"Enviar e-mails de trabalho\",\n",
    "    \"Ir à academia\",\n",
    "    \"Preparar o jantar\"\n",
    "]\n",
    "\n",
    "# Mostrando todas as tarefas\n",
    "print(\"Minhas Tarefas de Hoje:\")\n",
    "for tarefa in tarefas:\n",
    "    print(f\"- {tarefa}\")\n",
    "\n",
    "# Marcando uma tarefa como concluída e removendo da lista\n",
    "concluida = tarefas.pop(2)  # Remove a tarefa \"Enviar e-mails de trabalho\"\n",
    "print(f\"\\nTarefa concluída: {concluida}\")\n",
    "\n",
    "# Mostrando as tarefas restantes\n",
    "print(\"\\nTarefas Restantes:\")\n",
    "for tarefa in tarefas:\n",
    "    print(f\"- {tarefa}\")"
   ]
  },
  {
   "cell_type": "markdown",
   "metadata": {},
   "source": [
    "## Desafio: Escreva um programa que retorne os números pares e ímpares de uma lista"
   ]
  },
  {
   "cell_type": "code",
   "execution_count": 7,
   "metadata": {},
   "outputs": [
    {
     "name": "stdout",
     "output_type": "stream",
     "text": [
      "[1, 2, 3, 4, 5, 6, 7, 8, 9, 10, 11, 12, 13, 14, 15, 16, 17, 18, 19, 20, 21, 22, 23, 24, 25, 26, 27, 28, 29, 30, 31, 32, 33, 34, 35, 36, 37, 38, 39, 40, 41, 42, 43, 44, 45, 46, 47, 48, 49, 50, 51, 52, 53, 54, 55, 56, 57, 58, 59, 60, 61, 62, 63, 64, 65, 66, 67, 68, 69, 70, 71, 72, 73, 74, 75, 76, 77, 78, 79, 80, 81, 82, 83, 84, 85, 86, 87, 88, 89, 90, 91, 92, 93, 94, 95, 96, 97, 98, 99, 100]\n"
     ]
    }
   ],
   "source": [
    "our_list = [i for i in range(1, 101)]\n",
    "print(our_list)"
   ]
  },
  {
   "cell_type": "code",
   "execution_count": 9,
   "metadata": {},
   "outputs": [
    {
     "name": "stdout",
     "output_type": "stream",
     "text": [
      "Pares: [0, 2, 4, 6, 8, 10, 12, 14, 16, 18, 20, 22, 24, 26, 28, 30, 32, 34, 36, 38, 40, 42, 44, 46, 48, 50, 52, 54, 56, 58, 60, 62, 64, 66, 68, 70, 72, 74, 76, 78, 80, 82, 84, 86, 88, 90, 92, 94, 96, 98]\n",
      "Ímpares: [1, 3, 5, 7, 9, 11, 13, 15, 17, 19, 21, 23, 25, 27, 29, 31, 33, 35, 37, 39, 41, 43, 45, 47, 49, 51, 53, 55, 57, 59, 61, 63, 65, 67, 69, 71, 73, 75, 77, 79, 81, 83, 85, 87, 89, 91, 93, 95, 97, 99]\n"
     ]
    }
   ],
   "source": [
    "pares = []\n",
    "impares = []\n",
    "for i in our_list:\n",
    "    if i % 2 == 0:\n",
    "        pares.append(i)\n",
    "    else:\n",
    "        impares.append(i)\n",
    "\n",
    "print(f\"Pares: {pares}\")\n",
    "print(f\"Ímpares: {impares}\")"
   ]
  },
  {
   "cell_type": "code",
   "execution_count": 10,
   "metadata": {},
   "outputs": [
    {
     "name": "stdout",
     "output_type": "stream",
     "text": [
      "Pares: [0, 2, 4, 6, 8, 10, 12, 14, 16, 18, 20, 22, 24, 26, 28, 30, 32, 34, 36, 38, 40, 42, 44, 46, 48, 50, 52, 54, 56, 58, 60, 62, 64, 66, 68, 70, 72, 74, 76, 78, 80, 82, 84, 86, 88, 90, 92, 94, 96, 98]\n",
      "Ímpares: [1, 3, 5, 7, 9, 11, 13, 15, 17, 19, 21, 23, 25, 27, 29, 31, 33, 35, 37, 39, 41, 43, 45, 47, 49, 51, 53, 55, 57, 59, 61, 63, 65, 67, 69, 71, 73, 75, 77, 79, 81, 83, 85, 87, 89, 91, 93, 95, 97, 99]\n"
     ]
    }
   ],
   "source": [
    "pares = [i for i in our_list if i % 2 == 0]\n",
    "impart = [i for i in our_list if i not in pares]\n",
    "print(f\"Pares: {pares}\")\n",
    "print(f\"Ímpares: {impares}\")"
   ]
  },
  {
   "cell_type": "markdown",
   "metadata": {},
   "source": [
    "# 2 - Tuplas em Python"
   ]
  },
  {
   "cell_type": "markdown",
   "metadata": {},
   "source": [
    "## O que são Tuplas\n",
    "### Tipo de estrutura de dados que permite armazenar uma sequência ordenada de elementos. Diferente das listas, as tuplas são  imutáveis, o que significa que, após a sua criação, seus valores não podem ser alterados. "
   ]
  },
  {
   "cell_type": "markdown",
   "metadata": {},
   "source": [
    "### Em Python, uma tupla é definida pela sua tipagem \"tuple\", pela presença de parênteses envolta dos dados e por sua classe para converter para tupla."
   ]
  },
  {
   "cell_type": "code",
   "execution_count": 11,
   "metadata": {},
   "outputs": [
    {
     "name": "stdout",
     "output_type": "stream",
     "text": [
      "(1, 2, 3)\n",
      "<class 'tuple'>\n"
     ]
    }
   ],
   "source": [
    "tupla_vazia = ()\n",
    "tupla_com_elementos = (1, 2, 3)\n",
    "tupla_unica = (5,)  # Note a vírgula para diferenciar de uma expressão entre parênteses\n",
    "print(tupla_com_elementos)\n",
    "print(type(tupla_com_elementos))"
   ]
  },
  {
   "cell_type": "markdown",
   "metadata": {},
   "source": [
    "## Caracteristicas:\n",
    "- Imutáveis: Não podem ser alteradas após a criação.\n",
    "- Ordenadas: Mantêm a ordem dos elementos.\n",
    "- Aceitam elementos duplicados.\n",
    "- Podem conter tipos diferentes: números, strings, outros objetos, etc."
   ]
  },
  {
   "cell_type": "markdown",
   "metadata": {},
   "source": [
    "## Acessando elementos de uma tupla"
   ]
  },
  {
   "cell_type": "code",
   "execution_count": 12,
   "metadata": {},
   "outputs": [
    {
     "name": "stdout",
     "output_type": "stream",
     "text": [
      "10\n",
      "50\n",
      "(20, 30, 40)\n",
      "(10, 20, 30)\n",
      "(30, 40, 50)\n"
     ]
    }
   ],
   "source": [
    "tupla = (10, 20, 30, 40, 50)\n",
    "print(tupla[0])  # Acessa o primeiro elemento: 10\n",
    "print(tupla[-1]) # Acessa o último elemento: 50\n",
    "print(tupla[1:4])  # Saída: (20, 30, 40)\n",
    "print(tupla[:3])   # Saída: (10, 20, 30)\n",
    "print(tupla[2:])   # Saída: (30, 40, 50)"
   ]
  },
  {
   "cell_type": "markdown",
   "metadata": {},
   "source": [
    "## Funções úteis em tuplas"
   ]
  },
  {
   "cell_type": "code",
   "execution_count": 13,
   "metadata": {},
   "outputs": [
    {
     "name": "stdout",
     "output_type": "stream",
     "text": [
      "Tamanho da tupla: 6\n",
      "Maior valor: 50\n",
      "Menor valor: 10\n",
      "Soma dos valores: 170\n",
      "Qualquer verdadeiro: True\n",
      "Todos verdadeiros: True\n",
      "Tupla convertida: (1, 2, 3, 4)\n",
      "Índice da primeira ocorrência de 20: 1\n",
      "Número de vezes que 20 aparece: 2\n",
      "Tupla ordenada: [10, 20, 20, 30, 40, 50]\n"
     ]
    }
   ],
   "source": [
    "# Criando uma tupla de exemplo\n",
    "tupla = (10, 20, 30, 40, 50, 20)\n",
    "\n",
    "# 1. len() - Retorna o tamanho da tupla\n",
    "tamanho = len(tupla)\n",
    "print(f\"Tamanho da tupla: {tamanho}\")\n",
    "\n",
    "# 2. max() - Retorna o maior valor da tupla\n",
    "maior_valor = max(tupla)\n",
    "print(f\"Maior valor: {maior_valor}\")\n",
    "\n",
    "# 3. min() - Retorna o menor valor da tupla\n",
    "menor_valor = min(tupla)\n",
    "print(f\"Menor valor: {menor_valor}\")\n",
    "\n",
    "# 4. sum() - Retorna a soma de todos os elementos da tupla\n",
    "soma = sum(tupla)\n",
    "print(f\"Soma dos valores: {soma}\")\n",
    "\n",
    "# 5. any() - Retorna True se pelo menos um dos elementos for verdadeiro\n",
    "qualquer_verdadeiro = any(tupla)\n",
    "print(f\"Qualquer verdadeiro: {qualquer_verdadeiro}\")\n",
    "\n",
    "# 6. all() - Retorna True se todos os elementos forem verdadeiros\n",
    "todos_verdadeiros = all(tupla)\n",
    "print(f\"Todos verdadeiros: {todos_verdadeiros}\")\n",
    "\n",
    "# 7. tuple() - Converte outro tipo de dados (ex: lista) para uma tupla\n",
    "lista = [1, 2, 3, 4]\n",
    "tupla_convertida = tuple(lista)\n",
    "print(f\"Tupla convertida: {tupla_convertida}\")\n",
    "\n",
    "# 8. index() - Retorna o índice da primeira ocorrência de um valor na tupla\n",
    "indice_valor = tupla.index(20)\n",
    "print(f\"Índice da primeira ocorrência de 20: {indice_valor}\")\n",
    "\n",
    "# 9. count() - Retorna o número de vezes que um valor aparece na tupla\n",
    "contagem_valor = tupla.count(20)\n",
    "print(f\"Número de vezes que 20 aparece: {contagem_valor}\")\n",
    "\n",
    "# 10. sorted() - Retorna uma nova lista com os elementos da tupla ordenados\n",
    "tupla_ordenada = sorted(tupla)\n",
    "print(f\"Tupla ordenada: {tupla_ordenada}\")\n"
   ]
  },
  {
   "cell_type": "markdown",
   "metadata": {},
   "source": [
    "## Exemplo de uso Tuplas"
   ]
  },
  {
   "cell_type": "code",
   "execution_count": 14,
   "metadata": {},
   "outputs": [
    {
     "name": "stdout",
     "output_type": "stream",
     "text": [
      "Latitude: 40.7128\n",
      "Longitude: -74.006\n",
      "Novas Coordenadas - Latitude: 34.0522, Longitude: -118.2437\n"
     ]
    }
   ],
   "source": [
    "# Armazenando coordenadas geográficas como uma tupla\n",
    "coordenadas = (40.7128, -74.0060)  # Latitude e Longitude de Nova York\n",
    "\n",
    "# Acessando elementos da tupla\n",
    "latitude = coordenadas[0]\n",
    "longitude = coordenadas[1]\n",
    "\n",
    "print(f\"Latitude: {latitude}\")\n",
    "print(f\"Longitude: {longitude}\")\n",
    "\n",
    "# Atualizando coordenadas (criando uma nova tupla)\n",
    "novas_coordenadas = (34.0522, -118.2437)  # Latitude e Longitude de Los Angeles\n",
    "\n",
    "# Exibindo novas coordenadas\n",
    "print(f\"Novas Coordenadas - Latitude: {novas_coordenadas[0]}, Longitude: {novas_coordenadas[1]}\")"
   ]
  },
  {
   "cell_type": "markdown",
   "metadata": {},
   "source": [
    "## Desafio: Faça um programa para remover o quarto elemento de uma tupla"
   ]
  },
  {
   "cell_type": "code",
   "execution_count": 16,
   "metadata": {},
   "outputs": [
    {
     "name": "stdout",
     "output_type": "stream",
     "text": [
      "('w', 3, 'r', 's', 'o', 'u', 'r', 'c', 'e')\n",
      "('w', 3, 's', 'o', 'u', 'r', 'c', 'e')\n",
      "('w', 3, 's', 'o', 'u', 'r', 'e')\n"
     ]
    }
   ],
   "source": [
    "tuplex = \"w\", 3, \"r\", \"s\", \"o\", \"u\", \"r\", \"c\", \"e\"\n",
    "print(tuplex)\n",
    "\n",
    "tuplex = tuplex[:2] + tuplex[3:]\n",
    "print(tuplex)\n",
    "\n",
    "# outra forma\n",
    "\n",
    "listx = list(tuplex)\n",
    "listx.remove(\"c\")\n",
    "\n",
    "tuplex = tuple(listx)\n",
    "print(tuplex) "
   ]
  },
  {
   "cell_type": "markdown",
   "metadata": {},
   "source": [
    "# 3 - Dicionários em Python"
   ]
  },
  {
   "cell_type": "markdown",
   "metadata": {},
   "source": [
    "## O que é Dicionário em Python?\n",
    "### Estrutura que armazena pares de chave-valor. Cada chave em um dicionário é única e está associada a um valor, que pode ser de qualquer tipo de dado, como números, strings, listas, ou até outros dicionários\n"
   ]
  },
  {
   "cell_type": "markdown",
   "metadata": {},
   "source": [
    "## Características:\n",
    "- Chaves Únicas: As chaves em um dicionário são únicas, ou seja, não pode haver duas chaves iguais. Se uma nova chave for adicionada com um nome que já existe, o valor antigo será substituído.\n",
    "\n",
    "- Acesso Rápido: Dicionários são otimizados para acessar valores rapidamente usando as chaves.\n",
    "\n",
    "- Mutáveis: Você pode alterar, adicionar ou remover itens em um dicionário após sua criação.\n",
    "\n",
    "- Ordenação: A partir do Python 3.7, os dicionários mantêm a ordem de inserção dos itens."
   ]
  },
  {
   "cell_type": "code",
   "execution_count": 3,
   "metadata": {},
   "outputs": [
    {
     "name": "stdout",
     "output_type": "stream",
     "text": [
      "{'nome': 'Ana', 'idade': 28, 'cidade': 'São Paulo'}\n"
     ]
    }
   ],
   "source": [
    "# Criando um dicionário vazio\n",
    "dicionario_vazio = {}\n",
    "\n",
    "# Criando um dicionário com valores iniciais\n",
    "dicionario_com_valores = {\n",
    "    \"nome\": \"Ana\",\n",
    "    \"idade\": 28,\n",
    "    \"cidade\": \"São Paulo\"\n",
    "}\n",
    "\n",
    "# Outra forma de criar um dicionário\n",
    "dicionario_com_função = dict(nome=\"Ana\", idade=28, cidade=\"São Paulo\")\n",
    "print(dicionario_com_função)"
   ]
  },
  {
   "cell_type": "markdown",
   "metadata": {},
   "source": [
    "## Acessando valores em um dicionário"
   ]
  },
  {
   "cell_type": "code",
   "execution_count": 5,
   "metadata": {},
   "outputs": [
    {
     "name": "stdout",
     "output_type": "stream",
     "text": [
      "Nome: Ana, Idade: 28\n"
     ]
    }
   ],
   "source": [
    "# Acessando valores\n",
    "nome = dicionario_com_valores[\"nome\"]\n",
    "idade = dicionario_com_valores[\"idade\"]\n",
    "\n",
    "print(f\"Nome: {nome}, Idade: {idade}\")"
   ]
  },
  {
   "cell_type": "markdown",
   "metadata": {},
   "source": [
    "## Modificando e adicionando itens"
   ]
  },
  {
   "cell_type": "code",
   "execution_count": 6,
   "metadata": {},
   "outputs": [
    {
     "name": "stdout",
     "output_type": "stream",
     "text": [
      "{'nome': 'Ana', 'idade': 29, 'cidade': 'São Paulo', 'profissao': 'Engenheira'}\n"
     ]
    }
   ],
   "source": [
    "# Modificando um valor existente\n",
    "dicionario_com_valores[\"idade\"] = 29\n",
    "\n",
    "# Adicionando um novo par de chave-valor\n",
    "dicionario_com_valores[\"profissao\"] = \"Engenheira\"\n",
    "\n",
    "print(dicionario_com_valores)"
   ]
  },
  {
   "cell_type": "markdown",
   "metadata": {},
   "source": [
    "## Removendo itens"
   ]
  },
  {
   "cell_type": "code",
   "execution_count": 7,
   "metadata": {},
   "outputs": [
    {
     "name": "stdout",
     "output_type": "stream",
     "text": [
      "{}\n"
     ]
    }
   ],
   "source": [
    "# Remover um item específico usando del\n",
    "del dicionario_com_valores[\"cidade\"]\n",
    "\n",
    "# Remover um item específico e retornar seu valor usando pop()\n",
    "profissao = dicionario_com_valores.pop(\"profissao\")\n",
    "\n",
    "# Remover o último item adicionado usando popitem() (Python 3.7+)\n",
    "ultimo_item = dicionario_com_valores.popitem()\n",
    "\n",
    "# Limpar todos os itens do dicionário\n",
    "dicionario_com_valores.clear()\n",
    "\n",
    "print(dicionario_com_valores)"
   ]
  },
  {
   "cell_type": "markdown",
   "metadata": {},
   "source": [
    "## Loopings em dicionários"
   ]
  },
  {
   "cell_type": "code",
   "execution_count": 10,
   "metadata": {},
   "outputs": [
    {
     "name": "stdout",
     "output_type": "stream",
     "text": [
      "Chave: nome, Valor: Ana\n",
      "Chave: idade, Valor: 28\n",
      "Chave: cidade, Valor: São Paulo\n",
      "Chave: estado, Valor: SP\n",
      "Chave: pais, Valor: Brasil\n",
      "Valor: Ana\n",
      "Valor: 28\n",
      "Valor: São Paulo\n",
      "Valor: SP\n",
      "Valor: Brasil\n",
      "Chave: nome, Valor: Ana\n",
      "Chave: idade, Valor: 28\n",
      "Chave: cidade, Valor: São Paulo\n",
      "Chave: estado, Valor: SP\n",
      "Chave: pais, Valor: Brasil\n"
     ]
    }
   ],
   "source": [
    "# Iterando sobre as chaves\n",
    "for chave in dicionario:\n",
    "    print(f\"Chave: {chave}, Valor: {dicionario[chave]}\")\n",
    "\n",
    "# Iterando sobre os valores\n",
    "for valor in dicionario.values():\n",
    "    print(f\"Valor: {valor}\")\n",
    "\n",
    "# Iterando sobre as chaves e valores\n",
    "for chave, valor in dicionario.items():\n",
    "    print(f\"Chave: {chave}, Valor: {valor}\")"
   ]
  },
  {
   "cell_type": "markdown",
   "metadata": {},
   "source": [
    "## Métodos úteis para dicionários"
   ]
  },
  {
   "cell_type": "code",
   "execution_count": 8,
   "metadata": {},
   "outputs": [
    {
     "name": "stdout",
     "output_type": "stream",
     "text": [
      "Chaves: dict_keys(['nome', 'idade', 'cidade'])\n",
      "Valores: dict_values(['Ana', 28, 'São Paulo'])\n",
      "Itens: dict_items([('nome', 'Ana'), ('idade', 28), ('cidade', 'São Paulo')])\n",
      "Idade: 28\n",
      "Dicionário atualizado: {'nome': 'Ana', 'idade': 28, 'cidade': 'São Paulo', 'estado': 'SP', 'pais': 'Brasil'}\n"
     ]
    }
   ],
   "source": [
    "dicionario = {\"nome\": \"Ana\", \"idade\": 28, \"cidade\": \"São Paulo\"}\n",
    "\n",
    "# keys() - Retorna uma lista das chaves do dicionário\n",
    "chaves = dicionario.keys()\n",
    "print(\"Chaves:\", chaves)\n",
    "\n",
    "# values() - Retorna uma lista dos valores do dicionário\n",
    "valores = dicionario.values()\n",
    "print(\"Valores:\", valores)\n",
    "\n",
    "# items() - Retorna uma lista de tuplas (chave, valor) do dicionário\n",
    "itens = dicionario.items()\n",
    "print(\"Itens:\", itens)\n",
    "\n",
    "# get() - Retorna o valor associado a uma chave, sem lançar erro se a chave não existir\n",
    "idade = dicionario.get(\"idade\")\n",
    "print(\"Idade:\", idade)\n",
    "\n",
    "# update() - Atualiza o dicionário com pares de chave-valor de outro dicionário\n",
    "outro_dicionario = {\"estado\": \"SP\", \"pais\": \"Brasil\"}\n",
    "dicionario.update(outro_dicionario)\n",
    "print(\"Dicionário atualizado:\", dicionario)"
   ]
  },
  {
   "cell_type": "markdown",
   "metadata": {},
   "source": [
    "## Exemplo prático de uso de dicionários"
   ]
  },
  {
   "cell_type": "code",
   "execution_count": 11,
   "metadata": {},
   "outputs": [
    {
     "name": "stdout",
     "output_type": "stream",
     "text": [
      "Frequência das palavras: {'o': 2, 'sol': 2, 'brilha': 1, 'para': 2, 'todos': 2, 'nasce': 1}\n"
     ]
    }
   ],
   "source": [
    "# Exemplo: Contando a frequência de palavras em uma frase\n",
    "frase = \"o sol brilha para todos o sol nasce para todos\"\n",
    "palavras = frase.split()\n",
    "\n",
    "# Contando a frequência de cada palavra\n",
    "frequencia_palavras = {}\n",
    "for palavra in palavras:\n",
    "    if palavra in frequencia_palavras:\n",
    "        frequencia_palavras[palavra] += 1\n",
    "    else:\n",
    "        frequencia_palavras[palavra] = 1\n",
    "\n",
    "print(\"Frequência das palavras:\", frequencia_palavras)\n"
   ]
  },
  {
   "cell_type": "markdown",
   "metadata": {},
   "source": [
    "## Desafio: Mesclar Dois Dicionários\n",
    "### Dado dois dicionários que podem ter algumas chaves em comum, crie um novo dicionário que combine ambos. Se uma chave estiver presente nos dois dicionários, os valores devem ser somados. Se a chave estiver presente apenas em um dos dicionários, o valor correspondente deve ser incluído no dicionário resultante.\n",
    "### - Escreva uma função chamada mesclar_dicionarios que recebe dois dicionários como entrada e retorna um novo dicionário com a combinação dos dois. Imprima o dicionário resultante.\n",
    "### exemplo entrada:\n",
    "### dicionario1 = {'a': 2, 'b': 4, 'c': 6}\n",
    "### dicionario2 = {'b': 3, 'c': 8, 'd': 5}\n",
    "### -------------------------------------\n",
    "### exemplo saída:\n",
    "### {'a': 2, 'b': 7, 'c': 14, 'd': 5}"
   ]
  },
  {
   "cell_type": "code",
   "execution_count": 13,
   "metadata": {},
   "outputs": [
    {
     "name": "stdout",
     "output_type": "stream",
     "text": [
      "{'a': 2, 'b': 7, 'c': 14, 'd': 5}\n"
     ]
    }
   ],
   "source": [
    "def mesclar_dicionarios(d1, d2):\n",
    "    # Inicializa um novo dicionário vazio\n",
    "    resultado = {}\n",
    "    \n",
    "    # Adiciona todos os itens do primeiro dicionário ao resultado\n",
    "    for chave, valor in d1.items():\n",
    "        resultado[chave] = valor\n",
    "    \n",
    "    # Itera sobre o segundo dicionário\n",
    "    for chave, valor in d2.items():\n",
    "        if chave in resultado:\n",
    "            # Se a chave já existir, soma os valores\n",
    "            resultado[chave] += valor\n",
    "        else:\n",
    "            # Se a chave não existir, adiciona o par chave-valor ao resultado\n",
    "            resultado[chave] = valor\n",
    "    \n",
    "    return resultado\n",
    "\n",
    "# Exemplo de uso\n",
    "dicionario1 = {'a': 2, 'b': 4, 'c': 6}\n",
    "dicionario2 = {'b': 3, 'c': 8, 'd': 5}\n",
    "resultado = mesclar_dicionarios(dicionario1, dicionario2)\n",
    "print(resultado)"
   ]
  },
  {
   "cell_type": "markdown",
   "metadata": {},
   "source": [
    "# 4 - Sets em Python"
   ]
  },
  {
   "cell_type": "markdown",
   "metadata": {},
   "source": [
    "## O que é um set?\n",
    "### Um set (ou conjunto) é uma coleção não ordenada e sem elementos duplicados. Em Python, os conjuntos são muito úteis para armazenar coleções de elementos únicos e para realizar operações matemáticas como união, interseção e diferença.\n"
   ]
  },
  {
   "cell_type": "markdown",
   "metadata": {},
   "source": [
    "## Características:\n",
    "### - Elementos Únicos: Todos os elementos em um set são únicos. Se você adicionar elementos duplicados, eles serão automaticamente removidos.\n",
    "### - Não Ordenado: A ordem dos elementos em um set não é garantida e pode mudar."
   ]
  },
  {
   "cell_type": "code",
   "execution_count": 14,
   "metadata": {},
   "outputs": [],
   "source": [
    "# Criando um set vazio\n",
    "conjunto_vazio = set()\n",
    "\n",
    "# Criando um set com elementos\n",
    "conjunto = {1, 2, 3, 4, 5}\n",
    "\n",
    "# Criando um set a partir de uma lista (elementos duplicados serão removidos)\n",
    "conjunto_a_partir_de_lista = set([1, 2, 2, 3, 4, 4, 5])"
   ]
  },
  {
   "cell_type": "code",
   "execution_count": 16,
   "metadata": {},
   "outputs": [
    {
     "name": "stdout",
     "output_type": "stream",
     "text": [
      "{1, 2, 3, 4}\n"
     ]
    }
   ],
   "source": [
    "conjunto = {1, 2, 3, 4, 1, 2}\n",
    "print(conjunto)  # Saída: {1, 2, 3, 4} (note que os elementos duplicados foram removidos)"
   ]
  },
  {
   "cell_type": "markdown",
   "metadata": {},
   "source": [
    "# Acessando elementos em um set"
   ]
  },
  {
   "cell_type": "markdown",
   "metadata": {},
   "source": [
    "Em Python, os elementos de um set não são acessíveis por índice, pois os conjuntos são coleções desordenadas. Isso significa que você não pode acessar elementos diretamente por uma posição específica como faria com listas ou tuplas.\n",
    "o entanto, você pode acessar os elementos de um set de outras maneiras:"
   ]
  },
  {
   "cell_type": "code",
   "execution_count": 18,
   "metadata": {},
   "outputs": [
    {
     "name": "stdout",
     "output_type": "stream",
     "text": [
      "1\n",
      "2\n",
      "3\n",
      "4\n",
      "5\n"
     ]
    }
   ],
   "source": [
    "# 1. Iterando (looping)\n",
    "conjunto = {1, 2, 3, 4, 5}\n",
    "\n",
    "for elemento in conjunto:\n",
    "    print(elemento)\n"
   ]
  },
  {
   "cell_type": "code",
   "execution_count": 19,
   "metadata": {},
   "outputs": [
    {
     "name": "stdout",
     "output_type": "stream",
     "text": [
      "O número 3 está no conjunto\n"
     ]
    }
   ],
   "source": [
    "# 2. Verificando a Presença de um Elemento\n",
    "conjunto = {1, 2, 3, 4, 5}\n",
    "\n",
    "# Verificando se o número 3 está no conjunto\n",
    "if 3 in conjunto:\n",
    "    print(\"O número 3 está no conjunto\")\n"
   ]
  },
  {
   "cell_type": "code",
   "execution_count": 21,
   "metadata": {},
   "outputs": [
    {
     "name": "stdout",
     "output_type": "stream",
     "text": [
      "1\n"
     ]
    }
   ],
   "source": [
    "# 3. Convertendo o Set para uma Lista ou Tupla\n",
    "conjunto = {1, 2, 3, 4, 5}\n",
    "\n",
    "# Convertendo para uma lista\n",
    "lista = list(conjunto)\n",
    "\n",
    "# Acessando o primeiro elemento\n",
    "primeiro_elemento = lista[0]\n",
    "print(primeiro_elemento)"
   ]
  },
  {
   "cell_type": "code",
   "execution_count": 22,
   "metadata": {},
   "outputs": [
    {
     "name": "stdout",
     "output_type": "stream",
     "text": [
      "1\n",
      "5\n",
      "1\n"
     ]
    }
   ],
   "source": [
    "# 4. Usando Funções como min(), max(), e sorted()\n",
    "conjunto = {1, 2, 3, 4, 5}\n",
    "\n",
    "# Encontrando o menor valor\n",
    "menor_valor = min(conjunto)\n",
    "print(menor_valor)  # Saída: 1\n",
    "\n",
    "# Encontrando o maior valor\n",
    "maior_valor = max(conjunto)\n",
    "print(maior_valor)  # Saída: 5\n",
    "\n",
    "# Ordenando o set e acessando o primeiro elemento\n",
    "primeiro_elemento = sorted(conjunto)[0]\n",
    "print(primeiro_elemento)  # Saída: 1"
   ]
  },
  {
   "cell_type": "code",
   "execution_count": 23,
   "metadata": {},
   "outputs": [
    {
     "name": "stdout",
     "output_type": "stream",
     "text": [
      "1\n",
      "{2, 3, 4, 5}\n"
     ]
    }
   ],
   "source": [
    "# 5. Acessando um Elemento Aleatório com pop()\n",
    "conjunto = {1, 2, 3, 4, 5}\n",
    "\n",
    "# Removendo e retornando um elemento aleatório\n",
    "elemento_aleatorio = conjunto.pop()\n",
    "print(elemento_aleatorio)\n",
    "print(conjunto)  # O conjunto agora terá um elemento a menos"
   ]
  },
  {
   "cell_type": "markdown",
   "metadata": {},
   "source": [
    "## Funções úteis em sets"
   ]
  },
  {
   "cell_type": "code",
   "execution_count": 24,
   "metadata": {},
   "outputs": [
    {
     "name": "stdout",
     "output_type": "stream",
     "text": [
      "Conjunto inicial: {1, 2, 3, 4, 5}\n",
      "Após adicionar 6: {1, 2, 3, 4, 5, 6}\n",
      "Após tentar adicionar 3 novamente: {1, 2, 3, 4, 5, 6}\n",
      "Após remover 4: {1, 2, 3, 5, 6}\n",
      "Após tentar descartar 10: {1, 2, 3, 5, 6}\n",
      "Elemento removido com pop(): 1\n",
      "Conjunto após pop(): {2, 3, 5, 6}\n",
      "O número 3 está no conjunto? True\n",
      "O número 10 está no conjunto? False\n",
      "União de A e B: {1, 2, 3, 4, 5, 6}\n",
      "Interseção de A e B: {3, 4}\n",
      "Diferença de A - B: {1, 2}\n",
      "Diferença Simétrica de A e B: {1, 2, 5, 6}\n",
      "C é subconjunto de D? True\n",
      "D é superconjunto de C? True\n",
      "Conjunto convertido para lista: [2, 3, 5, 6]\n",
      "Primeiro elemento da lista: 2\n",
      "Frozenset: frozenset({1, 2, 3, 4, 5})\n"
     ]
    }
   ],
   "source": [
    "# Criando um set\n",
    "conjunto = {1, 2, 3, 4, 5}\n",
    "print(\"Conjunto inicial:\", conjunto)\n",
    "\n",
    "# Adicionando um elemento ao set\n",
    "conjunto.add(6)\n",
    "print(\"Após adicionar 6:\", conjunto)\n",
    "\n",
    "# Tentando adicionar um elemento que já existe\n",
    "conjunto.add(3)  # Não faz nada, já que 3 já está no set\n",
    "print(\"Após tentar adicionar 3 novamente:\", conjunto)\n",
    "\n",
    "# Removendo um elemento usando remove (gera um erro se o elemento não existir)\n",
    "conjunto.remove(4)\n",
    "print(\"Após remover 4:\", conjunto)\n",
    "\n",
    "# Removendo um elemento usando discard (não gera erro se o elemento não existir)\n",
    "conjunto.discard(10)  # Nenhum erro, mesmo que 10 não esteja no set\n",
    "print(\"Após tentar descartar 10:\", conjunto)\n",
    "\n",
    "# Removendo e retornando um elemento aleatório usando pop()\n",
    "elemento_removido = conjunto.pop()\n",
    "print(\"Elemento removido com pop():\", elemento_removido)\n",
    "print(\"Conjunto após pop():\", conjunto)\n",
    "\n",
    "# Verificando a presença de um elemento\n",
    "print(\"O número 3 está no conjunto?\", 3 in conjunto)\n",
    "print(\"O número 10 está no conjunto?\", 10 in conjunto)\n",
    "\n",
    "# Funções de conjuntos: união, interseção, diferença, diferença simétrica\n",
    "conjunto_a = {1, 2, 3, 4}\n",
    "conjunto_b = {3, 4, 5, 6}\n",
    "\n",
    "uniao = conjunto_a.union(conjunto_b)\n",
    "print(\"União de A e B:\", uniao)\n",
    "\n",
    "intersecao = conjunto_a.intersection(conjunto_b)\n",
    "print(\"Interseção de A e B:\", intersecao)\n",
    "\n",
    "diferenca = conjunto_a.difference(conjunto_b)\n",
    "print(\"Diferença de A - B:\", diferenca)\n",
    "\n",
    "diferenca_simetrica = conjunto_a.symmetric_difference(conjunto_b)\n",
    "print(\"Diferença Simétrica de A e B:\", diferenca_simetrica)\n",
    "\n",
    "# Subset e superset\n",
    "conjunto_c = {1, 2}\n",
    "conjunto_d = {1, 2, 3, 4}\n",
    "\n",
    "print(\"C é subconjunto de D?\", conjunto_c.issubset(conjunto_d))\n",
    "print(\"D é superconjunto de C?\", conjunto_d.issuperset(conjunto_c))\n",
    "\n",
    "# Convertendo o set para uma lista para acessar por índice\n",
    "lista = list(conjunto)\n",
    "print(\"Conjunto convertido para lista:\", lista)\n",
    "print(\"Primeiro elemento da lista:\", lista[0])\n",
    "\n",
    "# Criando um set imutável (frozenset)\n",
    "conjunto_imutavel = frozenset([1, 2, 3, 4, 5])\n",
    "print(\"Frozenset:\", conjunto_imutavel)\n",
    "\n",
    "# Tentar adicionar/remover elementos de um frozenset gerará um erro\n",
    "# conjunto_imutavel.add(6)  # Isso gera um erro, pois frozenset é imutável"
   ]
  },
  {
   "cell_type": "markdown",
   "metadata": {},
   "source": [
    "## Exemplo de uso sets"
   ]
  },
  {
   "cell_type": "code",
   "execution_count": null,
   "metadata": {},
   "outputs": [],
   "source": [
    "# Listas de CPFs de diferentes fontes\n",
    "cpfs_lista1 = [\n",
    "    \"123.456.789-09\", \"987.654.321-00\", \"123.456.789-09\",\n",
    "    \"111.222.333-44\", \"222.333.444-55\"\n",
    "]\n",
    "\n",
    "cpfs_lista2 = [\n",
    "    \"555.666.777-88\", \"987.654.321-00\", \"333.444.555-66\",\n",
    "    \"111.222.333-44\", \"123.456.789-09\"\n",
    "]\n",
    "\n",
    "cpfs_lista3 = [\n",
    "    \"777.888.999-00\", \"987.654.321-00\", \"111.222.333-44\",\n",
    "    \"999.888.777-66\", \"222.333.444-55\"\n",
    "]\n",
    "\n",
    "# Convertendo as listas para sets para remover duplicatas\n",
    "set_cpfs1 = set(cpfs_lista1)\n",
    "set_cpfs2 = set(cpfs_lista2)\n",
    "set_cpfs3 = set(cpfs_lista3)\n",
    "\n",
    "print(\"Set de CPFs 1:\", set_cpfs1)\n",
    "print(\"Set de CPFs 2:\", set_cpfs2)\n",
    "print(\"Set de CPFs 3:\", set_cpfs3)\n",
    "\n",
    "# Encontrando CPFs em comum entre todas as listas (interseção)\n",
    "cpfs_comuns = set_cpfs1.intersection(set_cpfs2, set_cpfs3)\n",
    "print(\"CPFs em comum entre todas as listas:\", cpfs_comuns)\n",
    "\n",
    "# Encontrando CPFs únicos em cada lista (diferença)\n",
    "cpfs_unicos_lista1 = set_cpfs1.difference(set_cpfs2, set_cpfs3)\n",
    "cpfs_unicos_lista2 = set_cpfs2.difference(set_cpfs1, set_cpfs3)\n",
    "cpfs_unicos_lista3 = set_cpfs3.difference(set_cpfs1, set_cpfs2)\n",
    "\n",
    "print(\"CPFs únicos na lista 1:\", cpfs_unicos_lista1)\n",
    "print(\"CPFs únicos na lista 2:\", cpfs_unicos_lista2)\n",
    "print(\"CPFs únicos na lista 3:\", cpfs_unicos_lista3)\n",
    "\n",
    "# Detectando CPFs inválidos\n",
    "# (Para simplificação, vamos considerar um CPF inválido como qualquer CPF que não tenha 14 caracteres)\n",
    "cpfs_invalidos = {cpf for cpf in set_cpfs1.union(set_cpfs2, set_cpfs3) if len(cpf) != 14}\n",
    "print(\"CPFs inválidos:\", cpfs_invalidos)"
   ]
  }
 ],
 "metadata": {
  "kernelspec": {
   "display_name": "Python 3",
   "language": "python",
   "name": "python3"
  },
  "language_info": {
   "codemirror_mode": {
    "name": "ipython",
    "version": 3
   },
   "file_extension": ".py",
   "mimetype": "text/x-python",
   "name": "python",
   "nbconvert_exporter": "python",
   "pygments_lexer": "ipython3",
   "version": "3.11.1"
  }
 },
 "nbformat": 4,
 "nbformat_minor": 2
}
